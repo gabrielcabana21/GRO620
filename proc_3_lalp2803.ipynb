{
 "cells": [
  {
   "cell_type": "markdown",
   "metadata": {
    "id": "a0EEWx14hBKx"
   },
   "source": [
    "# GRO620 - Activité procédurale 3"
   ]
  },
  {
   "cell_type": "code",
   "execution_count": null,
   "metadata": {
    "colab": {
     "base_uri": "https://localhost:8080/"
    },
    "executionInfo": {
     "elapsed": 32012,
     "status": "ok",
     "timestamp": 1622382319223,
     "user": {
      "displayName": "François Ferland",
      "photoUrl": "https://lh3.googleusercontent.com/a-/AOh14GgF2Or95FbA-4pBmWOKA7jS0MHVh9HZkxsXcGWI=s64",
      "userId": "06573522356862301710"
     },
     "user_tz": 240
    },
    "id": "uvKHKgWahBK0",
    "outputId": "024ed262-a8ed-4985-bb7c-0434d471dd53"
   },
   "outputs": [],
   "source": [
    "# Préambule\n",
    "\n",
    "import numpy as np\n",
    "import cv2\n",
    "import math\n",
    "\n",
    "import matplotlib.pyplot as plt\n",
    "%matplotlib inline\n",
    "\n",
    "## Si vous utilisez Google Colab, vous devez d'abord monter votre Google Drive\n",
    "## où se trouve vos données. \n",
    "## Commentez les trois lignes suivantes en ajustant le chemin vers votre propre\n",
    "## dossier :\n",
    "\n",
    "# from google.colab import drive\n",
    "# drive.mount('/content/gdrive')\n",
    "# %cd /content/gdrive/MyDrive/gro620-e21\n",
    "\n",
    "## Pour retrouver le chemin depuis Jupyter, vous pouvez utiliser ceci :\n",
    "# !ls /content/gdrive/MyDrive"
   ]
  },
  {
   "cell_type": "markdown",
   "metadata": {
    "id": "L-JwJffdhBK1"
   },
   "source": [
    "## Filtrage linéaire - suite\n",
    "\n",
    "### Q1.1\n",
    "\n",
    "Soit cette image :"
   ]
  },
  {
   "cell_type": "code",
   "execution_count": null,
   "metadata": {
    "colab": {
     "base_uri": "https://localhost:8080/",
     "height": 286
    },
    "executionInfo": {
     "elapsed": 5692,
     "status": "ok",
     "timestamp": 1622382324882,
     "user": {
      "displayName": "François Ferland",
      "photoUrl": "https://lh3.googleusercontent.com/a-/AOh14GgF2Or95FbA-4pBmWOKA7jS0MHVh9HZkxsXcGWI=s64",
      "userId": "06573522356862301710"
     },
     "user_tz": 240
    },
    "id": "oG_wN83xhBK1",
    "outputId": "bd998594-e834-4e50-f517-c039710df263"
   },
   "outputs": [],
   "source": [
    "img_q11_org  = cv2.imread(\"images_doc/proc2-q1-object.jpeg\")\n",
    "img_q11_mono = np.float32(cv2.cvtColor(img_q11_org, cv2.COLOR_BGR2GRAY)) / 255.\n",
    "plt.imshow(img_q11_mono, cmap=\"gray\")"
   ]
  },
  {
   "cell_type": "markdown",
   "metadata": {
    "id": "xZgWwS7ehBK3"
   },
   "source": [
    "Utilisez un filtre linéaire de Sobel (voir sections 3.2.1 et 4.2.1) pour faire ressortir les contours de cette image."
   ]
  },
  {
   "cell_type": "code",
   "execution_count": null,
   "metadata": {
    "executionInfo": {
     "elapsed": 56,
     "status": "ok",
     "timestamp": 1622382324885,
     "user": {
      "displayName": "François Ferland",
      "photoUrl": "https://lh3.googleusercontent.com/a-/AOh14GgF2Or95FbA-4pBmWOKA7jS0MHVh9HZkxsXcGWI=s64",
      "userId": "06573522356862301710"
     },
     "user_tz": 240
    },
    "id": "45jTljsXhBK3"
   },
   "outputs": [],
   "source": [
    "sobel = np.array([\n",
    "    [-1, 0, 1],\n",
    "    [-2, 0, 2],\n",
    "    [-1, 0, 1]]) * (1/8.)\n",
    "\n",
    "img_sob = cv2.filter2D(img_q11_mono, -1, sobel)\n",
    "\n",
    "plt.imshow(img_sob)\n"
   ]
  },
  {
   "cell_type": "markdown",
   "metadata": {
    "id": "4_q4Ex1UhBK4"
   },
   "source": [
    "## Filtrage non-linéaire\n",
    "\n",
    "### Q2.1\n",
    "\n",
    "Soit cette image :"
   ]
  },
  {
   "cell_type": "code",
   "execution_count": null,
   "metadata": {
    "colab": {
     "base_uri": "https://localhost:8080/",
     "height": 286
    },
    "executionInfo": {
     "elapsed": 50,
     "status": "ok",
     "timestamp": 1622382324886,
     "user": {
      "displayName": "François Ferland",
      "photoUrl": "https://lh3.googleusercontent.com/a-/AOh14GgF2Or95FbA-4pBmWOKA7jS0MHVh9HZkxsXcGWI=s64",
      "userId": "06573522356862301710"
     },
     "user_tz": 240
    },
    "id": "mNrG-0FthBK4",
    "outputId": "1651b4aa-9469-403b-8b73-8eb57ff95a11"
   },
   "outputs": [],
   "source": [
    "img_q21_org = cv2.imread(\"images_doc/proc2-q3-sand.png\")\n",
    "img_q21_mono = cv2.cvtColor(img_q21_org, cv2.COLOR_BGR2RGB)\n",
    "plt.imshow(img_q21_mono, cmap=\"gray\")"
   ]
  },
  {
   "cell_type": "markdown",
   "metadata": {
    "id": "AtIUQ8P8hBK5"
   },
   "source": [
    "Utilisez un filtre **non-linéaire** pour tenter de retirer les points noirs dans l'image."
   ]
  },
  {
   "cell_type": "code",
   "execution_count": null,
   "metadata": {
    "executionInfo": {
     "elapsed": 45,
     "status": "ok",
     "timestamp": 1622382324887,
     "user": {
      "displayName": "François Ferland",
      "photoUrl": "https://lh3.googleusercontent.com/a-/AOh14GgF2Or95FbA-4pBmWOKA7jS0MHVh9HZkxsXcGWI=s64",
      "userId": "06573522356862301710"
     },
     "user_tz": 240
    },
    "id": "_7ZXBdzZhBK5"
   },
   "outputs": [],
   "source": [
    "img_q21_filt = img_q21_mono.copy()\n",
    "img_q21_median = cv2.medianBlur(img_q21_filt,5);\n",
    "plt.imshow(img_q21_median, cmap=\"gray\")\n",
    "\n",
    "###Méthode 2### PLUS POUR DES IMAGES AVEC CONTOUR\n",
    "#img_q21_bi = cv2.bilateralFilter(img_q21_filt,10,80,80, cv2.BORDER_DEFAULT);\n",
    "#plt.imshow(img_q21_bi, cmap=\"gray\")"
   ]
  },
  {
   "cell_type": "markdown",
   "metadata": {
    "id": "il9v4gc5hBK6"
   },
   "source": [
    "## Chaîne de filtrage\n",
    "\n",
    "### Q3.1\n",
    "\n",
    "En reprenant la figure originale de la question Q1.1, appliquez une succession de filtres pour mieux isoler le contour de l'objet au centre de l'image."
   ]
  },
  {
   "cell_type": "code",
   "execution_count": null,
   "metadata": {
    "colab": {
     "base_uri": "https://localhost:8080/",
     "height": 286
    },
    "executionInfo": {
     "elapsed": 45,
     "status": "ok",
     "timestamp": 1622382324888,
     "user": {
      "displayName": "François Ferland",
      "photoUrl": "https://lh3.googleusercontent.com/a-/AOh14GgF2Or95FbA-4pBmWOKA7jS0MHVh9HZkxsXcGWI=s64",
      "userId": "06573522356862301710"
     },
     "user_tz": 240
    },
    "id": "_ZJcbVEhhBK6",
    "outputId": "1ca29236-34e8-4f1b-93f9-2038837a85ea"
   },
   "outputs": [],
   "source": [
    "img_q31 = img_q11_mono\n",
    "plt.imshow(img_q31, cmap=\"gray\")\n",
    "plt.figure()\n",
    "\n",
    "img_q31_filter = cv2.GaussianBlur(img_q31,(1,1),0)\n",
    "\n",
    "img_q31_clean = cv2.Sobel(img_q31_filter, -1, 0, 1)\n",
    "\n",
    "plt.imshow(img_q31_clean)"
   ]
  },
  {
   "cell_type": "markdown",
   "metadata": {
    "id": "tdc_PeV_hBK7"
   },
   "source": [
    "### Q3.2\n",
    "\n",
    "Répétez l'exercice précédent, mais avec un filtre de Canny."
   ]
  },
  {
   "cell_type": "code",
   "execution_count": null,
   "metadata": {
    "executionInfo": {
     "elapsed": 40,
     "status": "ok",
     "timestamp": 1622382324889,
     "user": {
      "displayName": "François Ferland",
      "photoUrl": "https://lh3.googleusercontent.com/a-/AOh14GgF2Or95FbA-4pBmWOKA7jS0MHVh9HZkxsXcGWI=s64",
      "userId": "06573522356862301710"
     },
     "user_tz": 240
    },
    "id": "ZJHMQiIkhBK7",
    "scrolled": true
   },
   "outputs": [],
   "source": [
    "img_q32 = img_q11_org\n",
    "\n",
    "img_q31_filter = cv2.GaussianBlur(img_q11_org,(15,15),0)\n",
    "\n",
    "img_q31_clean = cv2.Canny(img_q31_filter, 150, 250)\n",
    "plt.imshow(img_q31_clean)"
   ]
  },
  {
   "cell_type": "markdown",
   "metadata": {
    "id": "QHnno0MAhBK8"
   },
   "source": [
    "## Analyse de formes\n",
    "\n",
    "### Q4.1\n",
    "\n",
    "Soit cette image :"
   ]
  },
  {
   "cell_type": "code",
   "execution_count": null,
   "metadata": {
    "colab": {
     "base_uri": "https://localhost:8080/",
     "height": 286
    },
    "executionInfo": {
     "elapsed": 1029,
     "status": "ok",
     "timestamp": 1622382325880,
     "user": {
      "displayName": "François Ferland",
      "photoUrl": "https://lh3.googleusercontent.com/a-/AOh14GgF2Or95FbA-4pBmWOKA7jS0MHVh9HZkxsXcGWI=s64",
      "userId": "06573522356862301710"
     },
     "user_tz": 240
    },
    "id": "tYljEHxvhBK9",
    "outputId": "6434f40a-79a9-4d5b-e1ae-83fe2909fec8"
   },
   "outputs": [],
   "source": [
    "img_q41_org  = cv2.imread(\"images_doc/proc3-q4-tracks.jpeg\")\n",
    "img_q41_rgb = cv2.cvtColor(img_q41_org, cv2.COLOR_BGR2RGB)\n",
    "plt.imshow(img_q41_rgb)"
   ]
  },
  {
   "cell_type": "markdown",
   "metadata": {
    "id": "MzkzKDFRhBK9"
   },
   "source": [
    "(Source de l'image originale : [Krivec Ales, Pexels](https://www.pexels.com/photo/clouds-cloudy-country-distance-552779/))\n",
    "\n",
    "Trouvez et tracez les lignes dominantes à l'aide de la transformée de Hough."
   ]
  },
  {
   "cell_type": "code",
   "execution_count": null,
   "metadata": {
    "executionInfo": {
     "elapsed": 26,
     "status": "ok",
     "timestamp": 1622382325885,
     "user": {
      "displayName": "François Ferland",
      "photoUrl": "https://lh3.googleusercontent.com/a-/AOh14GgF2Or95FbA-4pBmWOKA7jS0MHVh9HZkxsXcGWI=s64",
      "userId": "06573522356862301710"
     },
     "user_tz": 240
    },
    "id": "AKO_1TwjhBK-"
   },
   "outputs": [],
   "source": [
    "img_q41_mono = cv2.cvtColor(img_q41_rgb, cv2.COLOR_BGR2GRAY)\n",
    "img_q41_filt = cv2.Canny(img_q41_mono,150,250)\n",
    "plt.imshow(img_q41_filt)\n",
    "lines = cv2.HoughLines(img_q41_filt, 1, np.pi / 180, 180, None, 0, 0);\n",
    "img_q41_filt = cv2.cvtColor(img_q41_filt, cv2.COLOR_GRAY2BGR)\n",
    "for i in range(0, len(lines)):\n",
    "    rho = lines[i][0][0]\n",
    "    theta = lines[i][0][1]\n",
    "    a = math.cos(theta)\n",
    "    b = math.sin(theta)\n",
    "    x0 = a * rho\n",
    "    y0 = b * rho\n",
    "    pt1 = (int(x0 + 1000*(-b)), int(y0 + 1000*(a)))\n",
    "    pt2 = (int(x0 - 1000*(-b)), int(y0 - 1000*(a)))\n",
    "    cv2.line(img_q41_filt, pt1, pt2, (0,0,255), 3, cv2.LINE_AA)\n",
    "plt.figure()    \n",
    "plt.imshow(img_q41_filt, cmap=\"gray\")"
   ]
  },
  {
   "cell_type": "markdown",
   "metadata": {
    "id": "LJRIc3KLhBK_"
   },
   "source": [
    "### Q4.2\n",
    "\n",
    "En reprenant l'image des questions Q1.1 et Q3.1, trouvez, tracez et afficher les coordonnées (en pixels) de la boîte (*bounding box*) contenant les contours de l'objet à l'aide de cv2.findContours()"
   ]
  },
  {
   "cell_type": "code",
   "execution_count": null,
   "metadata": {
    "executionInfo": {
     "elapsed": 26,
     "status": "ok",
     "timestamp": 1622382325887,
     "user": {
      "displayName": "François Ferland",
      "photoUrl": "https://lh3.googleusercontent.com/a-/AOh14GgF2Or95FbA-4pBmWOKA7jS0MHVh9HZkxsXcGWI=s64",
      "userId": "06573522356862301710"
     },
     "user_tz": 240
    },
    "id": "UV_Z_OPqhBK_"
   },
   "outputs": [],
   "source": [
    "img_q41_out = img_q11_org.copy() # Pour le résultat\n",
    "img_q41_filter = cv2.GaussianBlur(img_q41_out,(15,15),0)\n",
    "img_q41_f = cv2.Canny(img_q41_filter,150,250)\n",
    "plt.imshow(img_q41_f)\n",
    "plt.figure()\n",
    "contours, hierarchy = cv2.findContours(img_q41_f,cv2.RETR_EXTERNAL, cv2.CHAIN_APPROX_NONE)\n",
    "cv2.drawContours(img_q41_out, contours, 0, (255, 230, 0), 2)\n",
    "x,y,w,h = cv2.boundingRect(contours[0])\n",
    "print(w,h)\n",
    "cv2.rectangle(img_q41_out, (x,y), (x+w,y+h), (0,255,0),2)\n",
    "cv2.circle(img_q41_out, (x+int(w/2), y+int(h/2)), 3,(0,0,255),-1) \n",
    "plt.imshow(img_q41_out)"
   ]
  },
  {
   "cell_type": "code",
   "execution_count": null,
   "metadata": {},
   "outputs": [],
   "source": []
  }
 ],
 "metadata": {
  "colab": {
   "name": "proc_3.ipynb",
   "provenance": []
  },
  "kernelspec": {
   "display_name": "Python 3",
   "language": "python",
   "name": "python3"
  },
  "language_info": {
   "codemirror_mode": {
    "name": "ipython",
    "version": 3
   },
   "file_extension": ".py",
   "mimetype": "text/x-python",
   "name": "python",
   "nbconvert_exporter": "python",
   "pygments_lexer": "ipython3",
   "version": "3.8.5"
  }
 },
 "nbformat": 4,
 "nbformat_minor": 1
}
